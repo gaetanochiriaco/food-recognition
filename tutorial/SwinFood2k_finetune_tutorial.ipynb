{
  "cells": [
    {
      "attachments": {},
      "cell_type": "markdown",
      "metadata": {
        "id": "gR3FKTjveSpK"
      },
      "source": [
        "# Set-up"
      ]
    },
    {
      "cell_type": "code",
      "execution_count": null,
      "metadata": {
        "id": "ird26Sj5c5UQ"
      },
      "outputs": [],
      "source": [
        "import sys\n",
        "!{sys.executable} -m pip install 'git+https://github.com/gaetanochiriaco/food-recognition'"
      ]
    },
    {
      "cell_type": "code",
      "execution_count": 5,
      "metadata": {
        "id": "XDdZ87MvdngM"
      },
      "outputs": [],
      "source": [
        "# functions and modules from github repo\n",
        "from food_recognition.train import training_loop\n",
        "from food_recognition.dataloader import load_data"
      ]
    },
    {
      "cell_type": "code",
      "execution_count": 2,
      "metadata": {
        "id": "Myplhrnwl0Wk"
      },
      "outputs": [],
      "source": [
        "# other functions and modules\n",
        "import torch\n",
        "import zipfile\n",
        "import os\n",
        "import timm\n",
        "from timm.optim import create_optimizer_v2\n",
        "from timm.scheduler.step_lr import StepLRScheduler"
      ]
    },
    {
      "cell_type": "code",
      "execution_count": 3,
      "metadata": {
        "colab": {
          "base_uri": "https://localhost:8080/"
        },
        "id": "OPx0Gm8UpsWf",
        "outputId": "a1092508-1ae5-4c4d-ce53-67db4f9dcc18"
      },
      "outputs": [
        {
          "name": "stdout",
          "output_type": "stream",
          "text": [
            "Mounted at /content/drive\n"
          ]
        }
      ],
      "source": [
        "# connection to gdrive folder to import data/checkpoints\n",
        "from google.colab import drive\n",
        "drive.mount('/content/drive',force_remount=True)"
      ]
    },
    {
      "attachments": {},
      "cell_type": "markdown",
      "metadata": {
        "id": "kQphwv6chF32"
      },
      "source": [
        "# Data loading"
      ]
    },
    {
      "cell_type": "code",
      "execution_count": 6,
      "metadata": {
        "id": "r9-FT72dxM7Q"
      },
      "outputs": [],
      "source": [
        "# loading labels\n",
        "if not os.path.exists(\"/content/Food2k_label\"):\n",
        "  with zipfile.ZipFile('/content/drive/MyDrive/TesiMagistrale/data/Food2k_label.zip', \"r\") as z:\n",
        "    z.extractall(\"/content/\")"
      ]
    },
    {
      "cell_type": "code",
      "execution_count": 4,
      "metadata": {
        "id": "Bw6A37CdixDd"
      },
      "outputs": [],
      "source": [
        "# extracting data on disk\n",
        "!tar -xf /content/drive/MyDrive/TesiMagistrale/data/Food2k_resize.tar -C /content"
      ]
    },
    {
      "cell_type": "code",
      "execution_count": 12,
      "metadata": {
        "id": "WMDLEFFwABaW"
      },
      "outputs": [],
      "source": [
        "# parameters for training and data loading\n",
        "image_size = (224,224)\n",
        "batch_size = 16\n",
        "load_check = True\n",
        "mean_img = [0.5457954, 0.44430383, 0.34424934]\n",
        "sd_img = [0.23273608, 0.24383051, 0.24237761]\n",
        "num_classes = 2000\n",
        "save_path = \"/content/drive/MyDrive/TesiMagistrale/VIT/checkpoints\"\n",
        "model_name = \"swin_base_finetune\"\n",
        "epochs = 35"
      ]
    },
    {
      "cell_type": "code",
      "execution_count": 13,
      "metadata": {
        "id": "OqpQ1yzGytJB"
      },
      "outputs": [],
      "source": [
        "# data loading\n",
        "train_dataset, train_loader, test_dataset, test_loader = load_data(\n",
        "    image_path= \"/content/Food2k_resize\",\n",
        "    train_dir = \"/content/Food2k_label/train_finetune.txt\" ,\n",
        "    test_dir = \"/content/Food2k_label/test_finetune.txt\",\n",
        "    batch_size= batch_size,\n",
        "    image_size=image_size, \n",
        "    mean_img = mean_img,\n",
        "    sd_img = sd_img,\n",
        "    rrci = True,\n",
        "    h_flip = True,\n",
        "    aug3 = True,\n",
        "    color_jitter = True\n",
        ")"
      ]
    },
    {
      "attachments": {},
      "cell_type": "markdown",
      "metadata": {
        "id": "qiUDyuUOhLYo"
      },
      "source": [
        "# Model loading"
      ]
    },
    {
      "cell_type": "code",
      "execution_count": null,
      "metadata": {
        "id": "mbaqMUTm7Ffg"
      },
      "outputs": [],
      "source": [
        "# base model architecture from huggingface\n",
        "model = timm.create_model('swin_base_patch4_window7_224_in22k', pretrained=False, num_classes=num_classes)"
      ]
    },
    {
      "cell_type": "code",
      "execution_count": 9,
      "metadata": {
        "colab": {
          "base_uri": "https://localhost:8080/"
        },
        "id": "Kk6X02j47Nhv",
        "outputId": "85dd7a17-4fd3-41a6-eaeb-90979e27bfe5"
      },
      "outputs": [
        {
          "name": "stdout",
          "output_type": "stream",
          "text": [
            "Total number of parameters: 88793224\n"
          ]
        }
      ],
      "source": [
        "total_params = sum(p.numel() for p in model.parameters())\n",
        "print(f\"Total number of parameters: {total_params}\")"
      ]
    },
    {
      "cell_type": "code",
      "execution_count": 14,
      "metadata": {
        "id": "BI4mpsGEPBJ9"
      },
      "outputs": [],
      "source": [
        "# moving model on gpu and using a memory efficient format\n",
        "model = model.to(memory_format=torch.channels_last)\n",
        "model = model.cuda()"
      ]
    },
    {
      "cell_type": "code",
      "execution_count": 15,
      "metadata": {
        "id": "pwamIqaYGKAK"
      },
      "outputs": [],
      "source": [
        "# setting up optimizer and scheduler\n",
        "optimizer = create_optimizer_v2(model, opt=\"adamw\",\n",
        "    lr=0.00002)\n",
        "scheduler = StepLRScheduler(optimizer, decay_t = 7, decay_rate=.5)"
      ]
    },
    {
      "cell_type": "code",
      "execution_count": null,
      "metadata": {
        "colab": {
          "background_save": true
        },
        "id": "ITlA3y6M5U-d"
      },
      "outputs": [],
      "source": [
        "# loading checkpoint containing model, optimizer and scheduler state\n",
        "list_checkpoint = os.path.exists(save_path+f\"/{model_name}.pt\")\n",
        "if load_check and list_checkpoint:\n",
        "  checkpoint = torch.load(save_path+f\"/{model_name}.pt\")\n",
        "  model.load_state_dict(checkpoint['model_state_dict'])\n",
        "  optimizer.load_state_dict(checkpoint['optimizer_state_dict'])\n",
        "  scheduler.load_state_dict(checkpoint['scheduler_state_dict'])\n",
        "  last_batch = checkpoint['batch']\n",
        "else:\n",
        "  last_epoch = 0 \n",
        "  last_batch = 0"
      ]
    },
    {
      "attachments": {},
      "cell_type": "markdown",
      "metadata": {
        "id": "YNTRNBdEhO5z"
      },
      "source": [
        "# Training"
      ]
    },
    {
      "cell_type": "code",
      "execution_count": null,
      "metadata": {
        "colab": {
          "base_uri": "https://localhost:8080/",
          "height": 1000,
          "referenced_widgets": [
            "1e32be8a74ad4aaab81c54cfe3e237ed",
            "4372257381224996a88b449439cb8880",
            "99c4d9496cb7493392cc8b2c88dff786",
            "34c50ac7ec7c442680b0cc1c6617c3c2",
            "d03d489337f0465fb2ee824d4a425076",
            "7a3067d3ab2e479581777b4dcdde83aa",
            "58405e7b1ff44ab79e0aa39dea9af337",
            "5a923dffd70c4b4fb78ef0f7aaa02250",
            "1ba0f6767e674bcca2838419358f085e",
            "f8ac3c24cd9c439b975eb7ef92de3a29",
            "fce2efc152ce4764a9b28ee5799e4ecf",
            "ef44fdbeaa6c4f9d99cff139fa24692e",
            "189421b7d68249e6bd14d2b9676b3e75",
            "4121c1b0ec044ee0a2ecbb061d718920",
            "80848ab494224bf3b76b5fb4c46b5355",
            "6dca0bc17d0748398efa156e54abc39e",
            "a0e35665fc02492e977c634e252a7129",
            "618f8215ee4c4c4f9c3f0c5e9c5c07d2",
            "b6af3c9d0b9a47f484f2136213c9f1c4",
            "f9d77a22bffb49908b3f053a166eb77e",
            "db432d631db74005b25b6195bd4251b6",
            "da82b6fb74c2459fa84fb7dccc8f6019",
            "f1251d1217b842b4a4679585826437c9",
            "0713862e8bc847e1bb7ba9f1ac6453aa",
            "b237f959d92f486ea9e0f99dae0d35ff",
            "86e3455424ea46ae934d89024d462774",
            "98000ae15c6a41998c66f9ef456a510b",
            "6e6a663831a644a889d0fb30a5ed7ed7",
            "83a5d0eeec324eeca56499eeb40ebb4f",
            "6efcde0682d14815b2b8c540600f726b",
            "365c26124a974765985f7b633bc85494",
            "a25896c0a6af40a6b1b1f0522a7daed5",
            "0ba38a65022148459461777a130d744c",
            "9553b603a5224f9da7eabc0c3d2a503a",
            "7635d67852734a01acf786ddfcfc505b",
            "d6a69e31df394fea9c1909e6502e2594",
            "53744441eb904d4dbb18d9c811cc3daf",
            "35700ea18ba84231b1f1f72005050fe9",
            "bb6dd49bbe72489499e87aa3442350ca",
            "c97573620cdf4ba9b49addd66f58deed",
            "7baf7ccb24ff450bbf11914a4501827d",
            "d188dab172224e9983f724d213ad1b84",
            "275d1a1fbb274160b50d33bc81daa124",
            "83c9f7b14e804eb1ac308c659b166444"
          ]
        },
        "id": "YaxEzro6p850",
        "outputId": "43891472-fdaf-418a-ff26-4872b2296ab7"
      },
      "outputs": [
        {
          "data": {
            "application/vnd.jupyter.widget-view+json": {
              "model_id": "1e32be8a74ad4aaab81c54cfe3e237ed",
              "version_major": 2,
              "version_minor": 0
            },
            "text/plain": [
              "Downloading (…)solve/main/vocab.txt:   0%|          | 0.00/232k [00:00<?, ?B/s]"
            ]
          },
          "metadata": {},
          "output_type": "display_data"
        },
        {
          "data": {
            "application/vnd.jupyter.widget-view+json": {
              "model_id": "ef44fdbeaa6c4f9d99cff139fa24692e",
              "version_major": 2,
              "version_minor": 0
            },
            "text/plain": [
              "Downloading (…)okenizer_config.json:   0%|          | 0.00/28.0 [00:00<?, ?B/s]"
            ]
          },
          "metadata": {},
          "output_type": "display_data"
        },
        {
          "data": {
            "application/vnd.jupyter.widget-view+json": {
              "model_id": "f1251d1217b842b4a4679585826437c9",
              "version_major": 2,
              "version_minor": 0
            },
            "text/plain": [
              "Downloading (…)lve/main/config.json:   0%|          | 0.00/571 [00:00<?, ?B/s]"
            ]
          },
          "metadata": {},
          "output_type": "display_data"
        },
        {
          "data": {
            "application/vnd.jupyter.widget-view+json": {
              "model_id": "9553b603a5224f9da7eabc0c3d2a503a",
              "version_major": 2,
              "version_minor": 0
            },
            "text/plain": [
              "Downloading pytorch_model.bin:   0%|          | 0.00/1.34G [00:00<?, ?B/s]"
            ]
          },
          "metadata": {},
          "output_type": "display_data"
        },
        {
          "name": "stderr",
          "output_type": "stream",
          "text": [
            "Some weights of the model checkpoint at bert-large-uncased were not used when initializing BertModel: ['cls.seq_relationship.bias', 'cls.predictions.transform.LayerNorm.weight', 'cls.predictions.bias', 'cls.predictions.transform.dense.weight', 'cls.seq_relationship.weight', 'cls.predictions.transform.LayerNorm.bias', 'cls.predictions.transform.dense.bias', 'cls.predictions.decoder.weight']\n",
            "- This IS expected if you are initializing BertModel from the checkpoint of a model trained on another task or with another architecture (e.g. initializing a BertForSequenceClassification model from a BertForPreTraining model).\n",
            "- This IS NOT expected if you are initializing BertModel from the checkpoint of a model that you expect to be exactly identical (initializing a BertForSequenceClassification model from a BertForSequenceClassification model).\n"
          ]
        },
        {
          "name": "stdout",
          "output_type": "stream",
          "text": [
            "epoch: 19  batch:  100 [  1600/620192]  loss: 1.23376513 accuracy:  75.000% avg acc:  72.938%\n",
            "epoch: 19  batch:  200 [  3200/620192]  loss: 0.72966564 accuracy:  75.000% avg acc:  73.406%\n",
            "epoch: 19  batch:  300 [  4800/620192]  loss: 0.48975646 accuracy:  93.750% avg acc:  73.729%\n",
            "epoch: 19  batch:  400 [  6400/620192]  loss: 0.75435507 accuracy:  62.500% avg acc:  73.953%\n",
            "epoch: 19  batch:  500 [  8000/620192]  loss: 1.14126253 accuracy:  62.500% avg acc:  73.800%\n",
            "epoch: 19  batch:  600 [  9600/620192]  loss: 0.84262311 accuracy:  81.250% avg acc:  73.865%\n",
            "epoch: 19  batch:  700 [ 11200/620192]  loss: 1.01205134 accuracy:  75.000% avg acc:  73.848%\n",
            "epoch: 19  batch:  800 [ 12800/620192]  loss: 0.65724885 accuracy:  75.000% avg acc:  73.852%\n",
            "epoch: 19  batch:  900 [ 14400/620192]  loss: 1.00199664 accuracy:  62.500% avg acc:  73.785%\n",
            "epoch: 19  batch: 1000 [ 16000/620192]  loss: 0.67282236 accuracy:  81.250% avg acc:  73.812%\n",
            "epoch: 19  batch: 1100 [ 17600/620192]  loss: 0.95201492 accuracy:  68.750% avg acc:  73.756%\n",
            "epoch: 19  batch: 1200 [ 19200/620192]  loss: 0.88416636 accuracy:  75.000% avg acc:  73.740%\n",
            "epoch: 19  batch: 1300 [ 20800/620192]  loss: 0.89878011 accuracy:  75.000% avg acc:  73.817%\n",
            "epoch: 19  batch: 1400 [ 22400/620192]  loss: 1.13769078 accuracy:  56.250% avg acc:  73.893%\n",
            "epoch: 19  batch: 1500 [ 24000/620192]  loss: 0.78143656 accuracy:  75.000% avg acc:  73.854%\n",
            "epoch: 19  batch: 1600 [ 25600/620192]  loss: 0.69313276 accuracy:  87.500% avg acc:  73.969%\n",
            "epoch: 19  batch: 1700 [ 27200/620192]  loss: 1.01577365 accuracy:  75.000% avg acc:  73.897%\n",
            "epoch: 19  batch: 1800 [ 28800/620192]  loss: 0.82469845 accuracy:  68.750% avg acc:  73.872%\n",
            "epoch: 19  batch: 1900 [ 30400/620192]  loss: 1.22474837 accuracy:  68.750% avg acc:  73.852%\n",
            "epoch: 19  batch: 2000 [ 32000/620192]  loss: 1.01895881 accuracy:  81.250% avg acc:  73.862%\n",
            "epoch: 19  batch: 2100 [ 33600/620192]  loss: 0.69297528 accuracy:  81.250% avg acc:  73.792%\n",
            "epoch: 19  batch: 2200 [ 35200/620192]  loss: 0.99515009 accuracy:  68.750% avg acc:  73.807%\n",
            "epoch: 19  batch: 2300 [ 36800/620192]  loss: 0.75850850 accuracy:  81.250% avg acc:  73.826%\n",
            "epoch: 19  batch: 2400 [ 38400/620192]  loss: 0.81784141 accuracy:  81.250% avg acc:  73.781%\n",
            "epoch: 19  batch: 2500 [ 40000/620192]  loss: 0.93413258 accuracy:  81.250% avg acc:  73.782%\n",
            "epoch: 19  batch: 2600 [ 41600/620192]  loss: 0.89721501 accuracy:  75.000% avg acc:  73.834%\n",
            "epoch: 19  batch: 2700 [ 43200/620192]  loss: 0.86855197 accuracy:  81.250% avg acc:  73.898%\n",
            "epoch: 19  batch: 2800 [ 44800/620192]  loss: 0.56784129 accuracy:  87.500% avg acc:  73.877%\n",
            "epoch: 19  batch: 2900 [ 46400/620192]  loss: 0.99957955 accuracy:  62.500% avg acc:  73.838%\n",
            "epoch: 19  batch: 3000 [ 48000/620192]  loss: 0.83010513 accuracy:  62.500% avg acc:  73.819%\n",
            "epoch: 19  batch: 3100 [ 49600/620192]  loss: 1.52384400 accuracy:  68.750% avg acc:  73.784%\n",
            "epoch: 19  batch: 3200 [ 51200/620192]  loss: 0.84073502 accuracy:  75.000% avg acc:  73.832%\n",
            "epoch: 19  batch: 3300 [ 52800/620192]  loss: 0.57694167 accuracy:  87.500% avg acc:  73.892%\n",
            "epoch: 19  batch: 3400 [ 54400/620192]  loss: 0.53924280 accuracy:  93.750% avg acc:  73.952%\n",
            "epoch: 19  batch: 3500 [ 56000/620192]  loss: 1.30890465 accuracy:  56.250% avg acc:  73.993%\n",
            "epoch: 19  batch: 3600 [ 57600/620192]  loss: 0.72374976 accuracy:  87.500% avg acc:  74.035%\n",
            "epoch: 19  batch: 3700 [ 59200/620192]  loss: 1.02781606 accuracy:  68.750% avg acc:  74.012%\n",
            "epoch: 19  batch: 3800 [ 60800/620192]  loss: 0.53664190 accuracy:  87.500% avg acc:  74.033%\n",
            "epoch: 19  batch: 3900 [ 62400/620192]  loss: 1.09589934 accuracy:  68.750% avg acc:  74.045%\n",
            "epoch: 19  batch: 4000 [ 64000/620192]  loss: 1.24357104 accuracy:  68.750% avg acc:  74.025%\n",
            "epoch: 19  batch: 4100 [ 65600/620192]  loss: 0.60739481 accuracy:  81.250% avg acc:  74.021%\n",
            "epoch: 19  batch: 4200 [ 67200/620192]  loss: 0.56061810 accuracy:  87.500% avg acc:  74.012%\n",
            "epoch: 19  batch: 4300 [ 68800/620192]  loss: 1.26928282 accuracy:  62.500% avg acc:  74.041%\n",
            "epoch: 19  batch: 4400 [ 70400/620192]  loss: 0.99028647 accuracy:  68.750% avg acc:  74.034%\n",
            "epoch: 19  batch: 4500 [ 72000/620192]  loss: 0.85482383 accuracy:  68.750% avg acc:  74.040%\n",
            "epoch: 19  batch: 4600 [ 73600/620192]  loss: 1.41712904 accuracy:  56.250% avg acc:  74.065%\n",
            "epoch: 19  batch: 4700 [ 75200/620192]  loss: 0.87451601 accuracy:  75.000% avg acc:  74.023%\n",
            "epoch: 19  batch: 4800 [ 76800/620192]  loss: 0.63374007 accuracy:  93.750% avg acc:  74.004%\n",
            "epoch: 19  batch: 4900 [ 78400/620192]  loss: 1.31784368 accuracy:  56.250% avg acc:  73.990%\n",
            "epoch: 19  batch: 5000 [ 80000/620192]  loss: 1.04499996 accuracy:  75.000% avg acc:  73.994%\n",
            "epoch: 19  batch: 5100 [ 81600/620192]  loss: 1.06294823 accuracy:  81.250% avg acc:  74.004%\n",
            "epoch: 19  batch: 5200 [ 83200/620192]  loss: 0.79242122 accuracy:  81.250% avg acc:  73.981%\n",
            "epoch: 19  batch: 5300 [ 84800/620192]  loss: 1.25669301 accuracy:  56.250% avg acc:  73.981%\n",
            "epoch: 19  batch: 5400 [ 86400/620192]  loss: 0.89910138 accuracy:  68.750% avg acc:  73.958%\n",
            "epoch: 19  batch: 5500 [ 88000/620192]  loss: 0.90296650 accuracy:  87.500% avg acc:  73.981%\n",
            "epoch: 19  batch: 5600 [ 89600/620192]  loss: 0.86924469 accuracy:  68.750% avg acc:  73.949%\n",
            "epoch: 19  batch: 5700 [ 91200/620192]  loss: 0.79181087 accuracy:  68.750% avg acc:  73.946%\n",
            "epoch: 19  batch: 5800 [ 92800/620192]  loss: 1.14799380 accuracy:  56.250% avg acc:  73.925%\n",
            "epoch: 19  batch: 5900 [ 94400/620192]  loss: 0.73895907 accuracy:  75.000% avg acc:  73.917%\n",
            "epoch: 19  batch: 6000 [ 96000/620192]  loss: 0.74266720 accuracy:  87.500% avg acc:  73.894%\n",
            "epoch: 19  batch: 6100 [ 97600/620192]  loss: 0.48987153 accuracy:  87.500% avg acc:  73.881%\n",
            "epoch: 19  batch: 6200 [ 99200/620192]  loss: 0.89963782 accuracy:  81.250% avg acc:  73.839%\n",
            "epoch: 19  batch: 6300 [100800/620192]  loss: 0.89907414 accuracy:  62.500% avg acc:  73.835%\n",
            "epoch: 19  batch: 6400 [102400/620192]  loss: 1.04943049 accuracy:  75.000% avg acc:  73.836%\n",
            "epoch: 19  batch: 6500 [104000/620192]  loss: 0.84768653 accuracy:  81.250% avg acc:  73.831%\n",
            "epoch: 19  batch: 6600 [105600/620192]  loss: 0.86060333 accuracy:  81.250% avg acc:  73.827%\n",
            "epoch: 19  batch: 6700 [107200/620192]  loss: 0.95987177 accuracy:  75.000% avg acc:  73.840%\n"
          ]
        }
      ],
      "source": [
        "# training model from last batch done\n",
        "training_loop(\n",
        "    model = model,\n",
        "    loader = train_loader,\n",
        "    optimizer=optimizer,\n",
        "    scheduler=scheduler,\n",
        "    epochs = 35,\n",
        "    last_batch = last_batch,\n",
        "    mixup = False,\n",
        "    save = False,\n",
        "    bert = True,\n",
        "    label_path = \"/content/drive/MyDrive/TesiMagistrale/data/food2k_label.csv\"\n",
        ")"
      ]
    }
  ],
  "metadata": {
    "accelerator": "GPU",
    "colab": {
      "provenance": []
    },
    "gpuClass": "standard",
    "kernelspec": {
      "display_name": "Python 3",
      "name": "python3"
    },
    "language_info": {
      "name": "python"
    },
    "widgets": {
      "application/vnd.jupyter.widget-state+json": {
        "0713862e8bc847e1bb7ba9f1ac6453aa": {
          "model_module": "@jupyter-widgets/controls",
          "model_module_version": "1.5.0",
          "model_name": "HTMLModel",
          "state": {
            "_dom_classes": [],
            "_model_module": "@jupyter-widgets/controls",
            "_model_module_version": "1.5.0",
            "_model_name": "HTMLModel",
            "_view_count": null,
            "_view_module": "@jupyter-widgets/controls",
            "_view_module_version": "1.5.0",
            "_view_name": "HTMLView",
            "description": "",
            "description_tooltip": null,
            "layout": "IPY_MODEL_6e6a663831a644a889d0fb30a5ed7ed7",
            "placeholder": "​",
            "style": "IPY_MODEL_83a5d0eeec324eeca56499eeb40ebb4f",
            "value": "Downloading (…)lve/main/config.json: 100%"
          }
        },
        "0ba38a65022148459461777a130d744c": {
          "model_module": "@jupyter-widgets/controls",
          "model_module_version": "1.5.0",
          "model_name": "DescriptionStyleModel",
          "state": {
            "_model_module": "@jupyter-widgets/controls",
            "_model_module_version": "1.5.0",
            "_model_name": "DescriptionStyleModel",
            "_view_count": null,
            "_view_module": "@jupyter-widgets/base",
            "_view_module_version": "1.2.0",
            "_view_name": "StyleView",
            "description_width": ""
          }
        },
        "189421b7d68249e6bd14d2b9676b3e75": {
          "model_module": "@jupyter-widgets/controls",
          "model_module_version": "1.5.0",
          "model_name": "HTMLModel",
          "state": {
            "_dom_classes": [],
            "_model_module": "@jupyter-widgets/controls",
            "_model_module_version": "1.5.0",
            "_model_name": "HTMLModel",
            "_view_count": null,
            "_view_module": "@jupyter-widgets/controls",
            "_view_module_version": "1.5.0",
            "_view_name": "HTMLView",
            "description": "",
            "description_tooltip": null,
            "layout": "IPY_MODEL_a0e35665fc02492e977c634e252a7129",
            "placeholder": "​",
            "style": "IPY_MODEL_618f8215ee4c4c4f9c3f0c5e9c5c07d2",
            "value": "Downloading (…)okenizer_config.json: 100%"
          }
        },
        "1ba0f6767e674bcca2838419358f085e": {
          "model_module": "@jupyter-widgets/controls",
          "model_module_version": "1.5.0",
          "model_name": "ProgressStyleModel",
          "state": {
            "_model_module": "@jupyter-widgets/controls",
            "_model_module_version": "1.5.0",
            "_model_name": "ProgressStyleModel",
            "_view_count": null,
            "_view_module": "@jupyter-widgets/base",
            "_view_module_version": "1.2.0",
            "_view_name": "StyleView",
            "bar_color": null,
            "description_width": ""
          }
        },
        "1e32be8a74ad4aaab81c54cfe3e237ed": {
          "model_module": "@jupyter-widgets/controls",
          "model_module_version": "1.5.0",
          "model_name": "HBoxModel",
          "state": {
            "_dom_classes": [],
            "_model_module": "@jupyter-widgets/controls",
            "_model_module_version": "1.5.0",
            "_model_name": "HBoxModel",
            "_view_count": null,
            "_view_module": "@jupyter-widgets/controls",
            "_view_module_version": "1.5.0",
            "_view_name": "HBoxView",
            "box_style": "",
            "children": [
              "IPY_MODEL_4372257381224996a88b449439cb8880",
              "IPY_MODEL_99c4d9496cb7493392cc8b2c88dff786",
              "IPY_MODEL_34c50ac7ec7c442680b0cc1c6617c3c2"
            ],
            "layout": "IPY_MODEL_d03d489337f0465fb2ee824d4a425076"
          }
        },
        "275d1a1fbb274160b50d33bc81daa124": {
          "model_module": "@jupyter-widgets/base",
          "model_module_version": "1.2.0",
          "model_name": "LayoutModel",
          "state": {
            "_model_module": "@jupyter-widgets/base",
            "_model_module_version": "1.2.0",
            "_model_name": "LayoutModel",
            "_view_count": null,
            "_view_module": "@jupyter-widgets/base",
            "_view_module_version": "1.2.0",
            "_view_name": "LayoutView",
            "align_content": null,
            "align_items": null,
            "align_self": null,
            "border": null,
            "bottom": null,
            "display": null,
            "flex": null,
            "flex_flow": null,
            "grid_area": null,
            "grid_auto_columns": null,
            "grid_auto_flow": null,
            "grid_auto_rows": null,
            "grid_column": null,
            "grid_gap": null,
            "grid_row": null,
            "grid_template_areas": null,
            "grid_template_columns": null,
            "grid_template_rows": null,
            "height": null,
            "justify_content": null,
            "justify_items": null,
            "left": null,
            "margin": null,
            "max_height": null,
            "max_width": null,
            "min_height": null,
            "min_width": null,
            "object_fit": null,
            "object_position": null,
            "order": null,
            "overflow": null,
            "overflow_x": null,
            "overflow_y": null,
            "padding": null,
            "right": null,
            "top": null,
            "visibility": null,
            "width": null
          }
        },
        "34c50ac7ec7c442680b0cc1c6617c3c2": {
          "model_module": "@jupyter-widgets/controls",
          "model_module_version": "1.5.0",
          "model_name": "HTMLModel",
          "state": {
            "_dom_classes": [],
            "_model_module": "@jupyter-widgets/controls",
            "_model_module_version": "1.5.0",
            "_model_name": "HTMLModel",
            "_view_count": null,
            "_view_module": "@jupyter-widgets/controls",
            "_view_module_version": "1.5.0",
            "_view_name": "HTMLView",
            "description": "",
            "description_tooltip": null,
            "layout": "IPY_MODEL_f8ac3c24cd9c439b975eb7ef92de3a29",
            "placeholder": "​",
            "style": "IPY_MODEL_fce2efc152ce4764a9b28ee5799e4ecf",
            "value": " 232k/232k [00:00&lt;00:00, 1.79MB/s]"
          }
        },
        "35700ea18ba84231b1f1f72005050fe9": {
          "model_module": "@jupyter-widgets/base",
          "model_module_version": "1.2.0",
          "model_name": "LayoutModel",
          "state": {
            "_model_module": "@jupyter-widgets/base",
            "_model_module_version": "1.2.0",
            "_model_name": "LayoutModel",
            "_view_count": null,
            "_view_module": "@jupyter-widgets/base",
            "_view_module_version": "1.2.0",
            "_view_name": "LayoutView",
            "align_content": null,
            "align_items": null,
            "align_self": null,
            "border": null,
            "bottom": null,
            "display": null,
            "flex": null,
            "flex_flow": null,
            "grid_area": null,
            "grid_auto_columns": null,
            "grid_auto_flow": null,
            "grid_auto_rows": null,
            "grid_column": null,
            "grid_gap": null,
            "grid_row": null,
            "grid_template_areas": null,
            "grid_template_columns": null,
            "grid_template_rows": null,
            "height": null,
            "justify_content": null,
            "justify_items": null,
            "left": null,
            "margin": null,
            "max_height": null,
            "max_width": null,
            "min_height": null,
            "min_width": null,
            "object_fit": null,
            "object_position": null,
            "order": null,
            "overflow": null,
            "overflow_x": null,
            "overflow_y": null,
            "padding": null,
            "right": null,
            "top": null,
            "visibility": null,
            "width": null
          }
        },
        "365c26124a974765985f7b633bc85494": {
          "model_module": "@jupyter-widgets/controls",
          "model_module_version": "1.5.0",
          "model_name": "ProgressStyleModel",
          "state": {
            "_model_module": "@jupyter-widgets/controls",
            "_model_module_version": "1.5.0",
            "_model_name": "ProgressStyleModel",
            "_view_count": null,
            "_view_module": "@jupyter-widgets/base",
            "_view_module_version": "1.2.0",
            "_view_name": "StyleView",
            "bar_color": null,
            "description_width": ""
          }
        },
        "4121c1b0ec044ee0a2ecbb061d718920": {
          "model_module": "@jupyter-widgets/controls",
          "model_module_version": "1.5.0",
          "model_name": "FloatProgressModel",
          "state": {
            "_dom_classes": [],
            "_model_module": "@jupyter-widgets/controls",
            "_model_module_version": "1.5.0",
            "_model_name": "FloatProgressModel",
            "_view_count": null,
            "_view_module": "@jupyter-widgets/controls",
            "_view_module_version": "1.5.0",
            "_view_name": "ProgressView",
            "bar_style": "success",
            "description": "",
            "description_tooltip": null,
            "layout": "IPY_MODEL_b6af3c9d0b9a47f484f2136213c9f1c4",
            "max": 28,
            "min": 0,
            "orientation": "horizontal",
            "style": "IPY_MODEL_f9d77a22bffb49908b3f053a166eb77e",
            "value": 28
          }
        },
        "4372257381224996a88b449439cb8880": {
          "model_module": "@jupyter-widgets/controls",
          "model_module_version": "1.5.0",
          "model_name": "HTMLModel",
          "state": {
            "_dom_classes": [],
            "_model_module": "@jupyter-widgets/controls",
            "_model_module_version": "1.5.0",
            "_model_name": "HTMLModel",
            "_view_count": null,
            "_view_module": "@jupyter-widgets/controls",
            "_view_module_version": "1.5.0",
            "_view_name": "HTMLView",
            "description": "",
            "description_tooltip": null,
            "layout": "IPY_MODEL_7a3067d3ab2e479581777b4dcdde83aa",
            "placeholder": "​",
            "style": "IPY_MODEL_58405e7b1ff44ab79e0aa39dea9af337",
            "value": "Downloading (…)solve/main/vocab.txt: 100%"
          }
        },
        "53744441eb904d4dbb18d9c811cc3daf": {
          "model_module": "@jupyter-widgets/controls",
          "model_module_version": "1.5.0",
          "model_name": "HTMLModel",
          "state": {
            "_dom_classes": [],
            "_model_module": "@jupyter-widgets/controls",
            "_model_module_version": "1.5.0",
            "_model_name": "HTMLModel",
            "_view_count": null,
            "_view_module": "@jupyter-widgets/controls",
            "_view_module_version": "1.5.0",
            "_view_name": "HTMLView",
            "description": "",
            "description_tooltip": null,
            "layout": "IPY_MODEL_275d1a1fbb274160b50d33bc81daa124",
            "placeholder": "​",
            "style": "IPY_MODEL_83c9f7b14e804eb1ac308c659b166444",
            "value": " 1.34G/1.34G [00:15&lt;00:00, 248MB/s]"
          }
        },
        "58405e7b1ff44ab79e0aa39dea9af337": {
          "model_module": "@jupyter-widgets/controls",
          "model_module_version": "1.5.0",
          "model_name": "DescriptionStyleModel",
          "state": {
            "_model_module": "@jupyter-widgets/controls",
            "_model_module_version": "1.5.0",
            "_model_name": "DescriptionStyleModel",
            "_view_count": null,
            "_view_module": "@jupyter-widgets/base",
            "_view_module_version": "1.2.0",
            "_view_name": "StyleView",
            "description_width": ""
          }
        },
        "5a923dffd70c4b4fb78ef0f7aaa02250": {
          "model_module": "@jupyter-widgets/base",
          "model_module_version": "1.2.0",
          "model_name": "LayoutModel",
          "state": {
            "_model_module": "@jupyter-widgets/base",
            "_model_module_version": "1.2.0",
            "_model_name": "LayoutModel",
            "_view_count": null,
            "_view_module": "@jupyter-widgets/base",
            "_view_module_version": "1.2.0",
            "_view_name": "LayoutView",
            "align_content": null,
            "align_items": null,
            "align_self": null,
            "border": null,
            "bottom": null,
            "display": null,
            "flex": null,
            "flex_flow": null,
            "grid_area": null,
            "grid_auto_columns": null,
            "grid_auto_flow": null,
            "grid_auto_rows": null,
            "grid_column": null,
            "grid_gap": null,
            "grid_row": null,
            "grid_template_areas": null,
            "grid_template_columns": null,
            "grid_template_rows": null,
            "height": null,
            "justify_content": null,
            "justify_items": null,
            "left": null,
            "margin": null,
            "max_height": null,
            "max_width": null,
            "min_height": null,
            "min_width": null,
            "object_fit": null,
            "object_position": null,
            "order": null,
            "overflow": null,
            "overflow_x": null,
            "overflow_y": null,
            "padding": null,
            "right": null,
            "top": null,
            "visibility": null,
            "width": null
          }
        },
        "618f8215ee4c4c4f9c3f0c5e9c5c07d2": {
          "model_module": "@jupyter-widgets/controls",
          "model_module_version": "1.5.0",
          "model_name": "DescriptionStyleModel",
          "state": {
            "_model_module": "@jupyter-widgets/controls",
            "_model_module_version": "1.5.0",
            "_model_name": "DescriptionStyleModel",
            "_view_count": null,
            "_view_module": "@jupyter-widgets/base",
            "_view_module_version": "1.2.0",
            "_view_name": "StyleView",
            "description_width": ""
          }
        },
        "6dca0bc17d0748398efa156e54abc39e": {
          "model_module": "@jupyter-widgets/base",
          "model_module_version": "1.2.0",
          "model_name": "LayoutModel",
          "state": {
            "_model_module": "@jupyter-widgets/base",
            "_model_module_version": "1.2.0",
            "_model_name": "LayoutModel",
            "_view_count": null,
            "_view_module": "@jupyter-widgets/base",
            "_view_module_version": "1.2.0",
            "_view_name": "LayoutView",
            "align_content": null,
            "align_items": null,
            "align_self": null,
            "border": null,
            "bottom": null,
            "display": null,
            "flex": null,
            "flex_flow": null,
            "grid_area": null,
            "grid_auto_columns": null,
            "grid_auto_flow": null,
            "grid_auto_rows": null,
            "grid_column": null,
            "grid_gap": null,
            "grid_row": null,
            "grid_template_areas": null,
            "grid_template_columns": null,
            "grid_template_rows": null,
            "height": null,
            "justify_content": null,
            "justify_items": null,
            "left": null,
            "margin": null,
            "max_height": null,
            "max_width": null,
            "min_height": null,
            "min_width": null,
            "object_fit": null,
            "object_position": null,
            "order": null,
            "overflow": null,
            "overflow_x": null,
            "overflow_y": null,
            "padding": null,
            "right": null,
            "top": null,
            "visibility": null,
            "width": null
          }
        },
        "6e6a663831a644a889d0fb30a5ed7ed7": {
          "model_module": "@jupyter-widgets/base",
          "model_module_version": "1.2.0",
          "model_name": "LayoutModel",
          "state": {
            "_model_module": "@jupyter-widgets/base",
            "_model_module_version": "1.2.0",
            "_model_name": "LayoutModel",
            "_view_count": null,
            "_view_module": "@jupyter-widgets/base",
            "_view_module_version": "1.2.0",
            "_view_name": "LayoutView",
            "align_content": null,
            "align_items": null,
            "align_self": null,
            "border": null,
            "bottom": null,
            "display": null,
            "flex": null,
            "flex_flow": null,
            "grid_area": null,
            "grid_auto_columns": null,
            "grid_auto_flow": null,
            "grid_auto_rows": null,
            "grid_column": null,
            "grid_gap": null,
            "grid_row": null,
            "grid_template_areas": null,
            "grid_template_columns": null,
            "grid_template_rows": null,
            "height": null,
            "justify_content": null,
            "justify_items": null,
            "left": null,
            "margin": null,
            "max_height": null,
            "max_width": null,
            "min_height": null,
            "min_width": null,
            "object_fit": null,
            "object_position": null,
            "order": null,
            "overflow": null,
            "overflow_x": null,
            "overflow_y": null,
            "padding": null,
            "right": null,
            "top": null,
            "visibility": null,
            "width": null
          }
        },
        "6efcde0682d14815b2b8c540600f726b": {
          "model_module": "@jupyter-widgets/base",
          "model_module_version": "1.2.0",
          "model_name": "LayoutModel",
          "state": {
            "_model_module": "@jupyter-widgets/base",
            "_model_module_version": "1.2.0",
            "_model_name": "LayoutModel",
            "_view_count": null,
            "_view_module": "@jupyter-widgets/base",
            "_view_module_version": "1.2.0",
            "_view_name": "LayoutView",
            "align_content": null,
            "align_items": null,
            "align_self": null,
            "border": null,
            "bottom": null,
            "display": null,
            "flex": null,
            "flex_flow": null,
            "grid_area": null,
            "grid_auto_columns": null,
            "grid_auto_flow": null,
            "grid_auto_rows": null,
            "grid_column": null,
            "grid_gap": null,
            "grid_row": null,
            "grid_template_areas": null,
            "grid_template_columns": null,
            "grid_template_rows": null,
            "height": null,
            "justify_content": null,
            "justify_items": null,
            "left": null,
            "margin": null,
            "max_height": null,
            "max_width": null,
            "min_height": null,
            "min_width": null,
            "object_fit": null,
            "object_position": null,
            "order": null,
            "overflow": null,
            "overflow_x": null,
            "overflow_y": null,
            "padding": null,
            "right": null,
            "top": null,
            "visibility": null,
            "width": null
          }
        },
        "7635d67852734a01acf786ddfcfc505b": {
          "model_module": "@jupyter-widgets/controls",
          "model_module_version": "1.5.0",
          "model_name": "HTMLModel",
          "state": {
            "_dom_classes": [],
            "_model_module": "@jupyter-widgets/controls",
            "_model_module_version": "1.5.0",
            "_model_name": "HTMLModel",
            "_view_count": null,
            "_view_module": "@jupyter-widgets/controls",
            "_view_module_version": "1.5.0",
            "_view_name": "HTMLView",
            "description": "",
            "description_tooltip": null,
            "layout": "IPY_MODEL_bb6dd49bbe72489499e87aa3442350ca",
            "placeholder": "​",
            "style": "IPY_MODEL_c97573620cdf4ba9b49addd66f58deed",
            "value": "Downloading pytorch_model.bin: 100%"
          }
        },
        "7a3067d3ab2e479581777b4dcdde83aa": {
          "model_module": "@jupyter-widgets/base",
          "model_module_version": "1.2.0",
          "model_name": "LayoutModel",
          "state": {
            "_model_module": "@jupyter-widgets/base",
            "_model_module_version": "1.2.0",
            "_model_name": "LayoutModel",
            "_view_count": null,
            "_view_module": "@jupyter-widgets/base",
            "_view_module_version": "1.2.0",
            "_view_name": "LayoutView",
            "align_content": null,
            "align_items": null,
            "align_self": null,
            "border": null,
            "bottom": null,
            "display": null,
            "flex": null,
            "flex_flow": null,
            "grid_area": null,
            "grid_auto_columns": null,
            "grid_auto_flow": null,
            "grid_auto_rows": null,
            "grid_column": null,
            "grid_gap": null,
            "grid_row": null,
            "grid_template_areas": null,
            "grid_template_columns": null,
            "grid_template_rows": null,
            "height": null,
            "justify_content": null,
            "justify_items": null,
            "left": null,
            "margin": null,
            "max_height": null,
            "max_width": null,
            "min_height": null,
            "min_width": null,
            "object_fit": null,
            "object_position": null,
            "order": null,
            "overflow": null,
            "overflow_x": null,
            "overflow_y": null,
            "padding": null,
            "right": null,
            "top": null,
            "visibility": null,
            "width": null
          }
        },
        "7baf7ccb24ff450bbf11914a4501827d": {
          "model_module": "@jupyter-widgets/base",
          "model_module_version": "1.2.0",
          "model_name": "LayoutModel",
          "state": {
            "_model_module": "@jupyter-widgets/base",
            "_model_module_version": "1.2.0",
            "_model_name": "LayoutModel",
            "_view_count": null,
            "_view_module": "@jupyter-widgets/base",
            "_view_module_version": "1.2.0",
            "_view_name": "LayoutView",
            "align_content": null,
            "align_items": null,
            "align_self": null,
            "border": null,
            "bottom": null,
            "display": null,
            "flex": null,
            "flex_flow": null,
            "grid_area": null,
            "grid_auto_columns": null,
            "grid_auto_flow": null,
            "grid_auto_rows": null,
            "grid_column": null,
            "grid_gap": null,
            "grid_row": null,
            "grid_template_areas": null,
            "grid_template_columns": null,
            "grid_template_rows": null,
            "height": null,
            "justify_content": null,
            "justify_items": null,
            "left": null,
            "margin": null,
            "max_height": null,
            "max_width": null,
            "min_height": null,
            "min_width": null,
            "object_fit": null,
            "object_position": null,
            "order": null,
            "overflow": null,
            "overflow_x": null,
            "overflow_y": null,
            "padding": null,
            "right": null,
            "top": null,
            "visibility": null,
            "width": null
          }
        },
        "80848ab494224bf3b76b5fb4c46b5355": {
          "model_module": "@jupyter-widgets/controls",
          "model_module_version": "1.5.0",
          "model_name": "HTMLModel",
          "state": {
            "_dom_classes": [],
            "_model_module": "@jupyter-widgets/controls",
            "_model_module_version": "1.5.0",
            "_model_name": "HTMLModel",
            "_view_count": null,
            "_view_module": "@jupyter-widgets/controls",
            "_view_module_version": "1.5.0",
            "_view_name": "HTMLView",
            "description": "",
            "description_tooltip": null,
            "layout": "IPY_MODEL_db432d631db74005b25b6195bd4251b6",
            "placeholder": "​",
            "style": "IPY_MODEL_da82b6fb74c2459fa84fb7dccc8f6019",
            "value": " 28.0/28.0 [00:00&lt;00:00, 881B/s]"
          }
        },
        "83a5d0eeec324eeca56499eeb40ebb4f": {
          "model_module": "@jupyter-widgets/controls",
          "model_module_version": "1.5.0",
          "model_name": "DescriptionStyleModel",
          "state": {
            "_model_module": "@jupyter-widgets/controls",
            "_model_module_version": "1.5.0",
            "_model_name": "DescriptionStyleModel",
            "_view_count": null,
            "_view_module": "@jupyter-widgets/base",
            "_view_module_version": "1.2.0",
            "_view_name": "StyleView",
            "description_width": ""
          }
        },
        "83c9f7b14e804eb1ac308c659b166444": {
          "model_module": "@jupyter-widgets/controls",
          "model_module_version": "1.5.0",
          "model_name": "DescriptionStyleModel",
          "state": {
            "_model_module": "@jupyter-widgets/controls",
            "_model_module_version": "1.5.0",
            "_model_name": "DescriptionStyleModel",
            "_view_count": null,
            "_view_module": "@jupyter-widgets/base",
            "_view_module_version": "1.2.0",
            "_view_name": "StyleView",
            "description_width": ""
          }
        },
        "86e3455424ea46ae934d89024d462774": {
          "model_module": "@jupyter-widgets/controls",
          "model_module_version": "1.5.0",
          "model_name": "HTMLModel",
          "state": {
            "_dom_classes": [],
            "_model_module": "@jupyter-widgets/controls",
            "_model_module_version": "1.5.0",
            "_model_name": "HTMLModel",
            "_view_count": null,
            "_view_module": "@jupyter-widgets/controls",
            "_view_module_version": "1.5.0",
            "_view_name": "HTMLView",
            "description": "",
            "description_tooltip": null,
            "layout": "IPY_MODEL_a25896c0a6af40a6b1b1f0522a7daed5",
            "placeholder": "​",
            "style": "IPY_MODEL_0ba38a65022148459461777a130d744c",
            "value": " 571/571 [00:00&lt;00:00, 11.4kB/s]"
          }
        },
        "9553b603a5224f9da7eabc0c3d2a503a": {
          "model_module": "@jupyter-widgets/controls",
          "model_module_version": "1.5.0",
          "model_name": "HBoxModel",
          "state": {
            "_dom_classes": [],
            "_model_module": "@jupyter-widgets/controls",
            "_model_module_version": "1.5.0",
            "_model_name": "HBoxModel",
            "_view_count": null,
            "_view_module": "@jupyter-widgets/controls",
            "_view_module_version": "1.5.0",
            "_view_name": "HBoxView",
            "box_style": "",
            "children": [
              "IPY_MODEL_7635d67852734a01acf786ddfcfc505b",
              "IPY_MODEL_d6a69e31df394fea9c1909e6502e2594",
              "IPY_MODEL_53744441eb904d4dbb18d9c811cc3daf"
            ],
            "layout": "IPY_MODEL_35700ea18ba84231b1f1f72005050fe9"
          }
        },
        "98000ae15c6a41998c66f9ef456a510b": {
          "model_module": "@jupyter-widgets/base",
          "model_module_version": "1.2.0",
          "model_name": "LayoutModel",
          "state": {
            "_model_module": "@jupyter-widgets/base",
            "_model_module_version": "1.2.0",
            "_model_name": "LayoutModel",
            "_view_count": null,
            "_view_module": "@jupyter-widgets/base",
            "_view_module_version": "1.2.0",
            "_view_name": "LayoutView",
            "align_content": null,
            "align_items": null,
            "align_self": null,
            "border": null,
            "bottom": null,
            "display": null,
            "flex": null,
            "flex_flow": null,
            "grid_area": null,
            "grid_auto_columns": null,
            "grid_auto_flow": null,
            "grid_auto_rows": null,
            "grid_column": null,
            "grid_gap": null,
            "grid_row": null,
            "grid_template_areas": null,
            "grid_template_columns": null,
            "grid_template_rows": null,
            "height": null,
            "justify_content": null,
            "justify_items": null,
            "left": null,
            "margin": null,
            "max_height": null,
            "max_width": null,
            "min_height": null,
            "min_width": null,
            "object_fit": null,
            "object_position": null,
            "order": null,
            "overflow": null,
            "overflow_x": null,
            "overflow_y": null,
            "padding": null,
            "right": null,
            "top": null,
            "visibility": null,
            "width": null
          }
        },
        "99c4d9496cb7493392cc8b2c88dff786": {
          "model_module": "@jupyter-widgets/controls",
          "model_module_version": "1.5.0",
          "model_name": "FloatProgressModel",
          "state": {
            "_dom_classes": [],
            "_model_module": "@jupyter-widgets/controls",
            "_model_module_version": "1.5.0",
            "_model_name": "FloatProgressModel",
            "_view_count": null,
            "_view_module": "@jupyter-widgets/controls",
            "_view_module_version": "1.5.0",
            "_view_name": "ProgressView",
            "bar_style": "success",
            "description": "",
            "description_tooltip": null,
            "layout": "IPY_MODEL_5a923dffd70c4b4fb78ef0f7aaa02250",
            "max": 231508,
            "min": 0,
            "orientation": "horizontal",
            "style": "IPY_MODEL_1ba0f6767e674bcca2838419358f085e",
            "value": 231508
          }
        },
        "a0e35665fc02492e977c634e252a7129": {
          "model_module": "@jupyter-widgets/base",
          "model_module_version": "1.2.0",
          "model_name": "LayoutModel",
          "state": {
            "_model_module": "@jupyter-widgets/base",
            "_model_module_version": "1.2.0",
            "_model_name": "LayoutModel",
            "_view_count": null,
            "_view_module": "@jupyter-widgets/base",
            "_view_module_version": "1.2.0",
            "_view_name": "LayoutView",
            "align_content": null,
            "align_items": null,
            "align_self": null,
            "border": null,
            "bottom": null,
            "display": null,
            "flex": null,
            "flex_flow": null,
            "grid_area": null,
            "grid_auto_columns": null,
            "grid_auto_flow": null,
            "grid_auto_rows": null,
            "grid_column": null,
            "grid_gap": null,
            "grid_row": null,
            "grid_template_areas": null,
            "grid_template_columns": null,
            "grid_template_rows": null,
            "height": null,
            "justify_content": null,
            "justify_items": null,
            "left": null,
            "margin": null,
            "max_height": null,
            "max_width": null,
            "min_height": null,
            "min_width": null,
            "object_fit": null,
            "object_position": null,
            "order": null,
            "overflow": null,
            "overflow_x": null,
            "overflow_y": null,
            "padding": null,
            "right": null,
            "top": null,
            "visibility": null,
            "width": null
          }
        },
        "a25896c0a6af40a6b1b1f0522a7daed5": {
          "model_module": "@jupyter-widgets/base",
          "model_module_version": "1.2.0",
          "model_name": "LayoutModel",
          "state": {
            "_model_module": "@jupyter-widgets/base",
            "_model_module_version": "1.2.0",
            "_model_name": "LayoutModel",
            "_view_count": null,
            "_view_module": "@jupyter-widgets/base",
            "_view_module_version": "1.2.0",
            "_view_name": "LayoutView",
            "align_content": null,
            "align_items": null,
            "align_self": null,
            "border": null,
            "bottom": null,
            "display": null,
            "flex": null,
            "flex_flow": null,
            "grid_area": null,
            "grid_auto_columns": null,
            "grid_auto_flow": null,
            "grid_auto_rows": null,
            "grid_column": null,
            "grid_gap": null,
            "grid_row": null,
            "grid_template_areas": null,
            "grid_template_columns": null,
            "grid_template_rows": null,
            "height": null,
            "justify_content": null,
            "justify_items": null,
            "left": null,
            "margin": null,
            "max_height": null,
            "max_width": null,
            "min_height": null,
            "min_width": null,
            "object_fit": null,
            "object_position": null,
            "order": null,
            "overflow": null,
            "overflow_x": null,
            "overflow_y": null,
            "padding": null,
            "right": null,
            "top": null,
            "visibility": null,
            "width": null
          }
        },
        "b237f959d92f486ea9e0f99dae0d35ff": {
          "model_module": "@jupyter-widgets/controls",
          "model_module_version": "1.5.0",
          "model_name": "FloatProgressModel",
          "state": {
            "_dom_classes": [],
            "_model_module": "@jupyter-widgets/controls",
            "_model_module_version": "1.5.0",
            "_model_name": "FloatProgressModel",
            "_view_count": null,
            "_view_module": "@jupyter-widgets/controls",
            "_view_module_version": "1.5.0",
            "_view_name": "ProgressView",
            "bar_style": "success",
            "description": "",
            "description_tooltip": null,
            "layout": "IPY_MODEL_6efcde0682d14815b2b8c540600f726b",
            "max": 571,
            "min": 0,
            "orientation": "horizontal",
            "style": "IPY_MODEL_365c26124a974765985f7b633bc85494",
            "value": 571
          }
        },
        "b6af3c9d0b9a47f484f2136213c9f1c4": {
          "model_module": "@jupyter-widgets/base",
          "model_module_version": "1.2.0",
          "model_name": "LayoutModel",
          "state": {
            "_model_module": "@jupyter-widgets/base",
            "_model_module_version": "1.2.0",
            "_model_name": "LayoutModel",
            "_view_count": null,
            "_view_module": "@jupyter-widgets/base",
            "_view_module_version": "1.2.0",
            "_view_name": "LayoutView",
            "align_content": null,
            "align_items": null,
            "align_self": null,
            "border": null,
            "bottom": null,
            "display": null,
            "flex": null,
            "flex_flow": null,
            "grid_area": null,
            "grid_auto_columns": null,
            "grid_auto_flow": null,
            "grid_auto_rows": null,
            "grid_column": null,
            "grid_gap": null,
            "grid_row": null,
            "grid_template_areas": null,
            "grid_template_columns": null,
            "grid_template_rows": null,
            "height": null,
            "justify_content": null,
            "justify_items": null,
            "left": null,
            "margin": null,
            "max_height": null,
            "max_width": null,
            "min_height": null,
            "min_width": null,
            "object_fit": null,
            "object_position": null,
            "order": null,
            "overflow": null,
            "overflow_x": null,
            "overflow_y": null,
            "padding": null,
            "right": null,
            "top": null,
            "visibility": null,
            "width": null
          }
        },
        "bb6dd49bbe72489499e87aa3442350ca": {
          "model_module": "@jupyter-widgets/base",
          "model_module_version": "1.2.0",
          "model_name": "LayoutModel",
          "state": {
            "_model_module": "@jupyter-widgets/base",
            "_model_module_version": "1.2.0",
            "_model_name": "LayoutModel",
            "_view_count": null,
            "_view_module": "@jupyter-widgets/base",
            "_view_module_version": "1.2.0",
            "_view_name": "LayoutView",
            "align_content": null,
            "align_items": null,
            "align_self": null,
            "border": null,
            "bottom": null,
            "display": null,
            "flex": null,
            "flex_flow": null,
            "grid_area": null,
            "grid_auto_columns": null,
            "grid_auto_flow": null,
            "grid_auto_rows": null,
            "grid_column": null,
            "grid_gap": null,
            "grid_row": null,
            "grid_template_areas": null,
            "grid_template_columns": null,
            "grid_template_rows": null,
            "height": null,
            "justify_content": null,
            "justify_items": null,
            "left": null,
            "margin": null,
            "max_height": null,
            "max_width": null,
            "min_height": null,
            "min_width": null,
            "object_fit": null,
            "object_position": null,
            "order": null,
            "overflow": null,
            "overflow_x": null,
            "overflow_y": null,
            "padding": null,
            "right": null,
            "top": null,
            "visibility": null,
            "width": null
          }
        },
        "c97573620cdf4ba9b49addd66f58deed": {
          "model_module": "@jupyter-widgets/controls",
          "model_module_version": "1.5.0",
          "model_name": "DescriptionStyleModel",
          "state": {
            "_model_module": "@jupyter-widgets/controls",
            "_model_module_version": "1.5.0",
            "_model_name": "DescriptionStyleModel",
            "_view_count": null,
            "_view_module": "@jupyter-widgets/base",
            "_view_module_version": "1.2.0",
            "_view_name": "StyleView",
            "description_width": ""
          }
        },
        "d03d489337f0465fb2ee824d4a425076": {
          "model_module": "@jupyter-widgets/base",
          "model_module_version": "1.2.0",
          "model_name": "LayoutModel",
          "state": {
            "_model_module": "@jupyter-widgets/base",
            "_model_module_version": "1.2.0",
            "_model_name": "LayoutModel",
            "_view_count": null,
            "_view_module": "@jupyter-widgets/base",
            "_view_module_version": "1.2.0",
            "_view_name": "LayoutView",
            "align_content": null,
            "align_items": null,
            "align_self": null,
            "border": null,
            "bottom": null,
            "display": null,
            "flex": null,
            "flex_flow": null,
            "grid_area": null,
            "grid_auto_columns": null,
            "grid_auto_flow": null,
            "grid_auto_rows": null,
            "grid_column": null,
            "grid_gap": null,
            "grid_row": null,
            "grid_template_areas": null,
            "grid_template_columns": null,
            "grid_template_rows": null,
            "height": null,
            "justify_content": null,
            "justify_items": null,
            "left": null,
            "margin": null,
            "max_height": null,
            "max_width": null,
            "min_height": null,
            "min_width": null,
            "object_fit": null,
            "object_position": null,
            "order": null,
            "overflow": null,
            "overflow_x": null,
            "overflow_y": null,
            "padding": null,
            "right": null,
            "top": null,
            "visibility": null,
            "width": null
          }
        },
        "d188dab172224e9983f724d213ad1b84": {
          "model_module": "@jupyter-widgets/controls",
          "model_module_version": "1.5.0",
          "model_name": "ProgressStyleModel",
          "state": {
            "_model_module": "@jupyter-widgets/controls",
            "_model_module_version": "1.5.0",
            "_model_name": "ProgressStyleModel",
            "_view_count": null,
            "_view_module": "@jupyter-widgets/base",
            "_view_module_version": "1.2.0",
            "_view_name": "StyleView",
            "bar_color": null,
            "description_width": ""
          }
        },
        "d6a69e31df394fea9c1909e6502e2594": {
          "model_module": "@jupyter-widgets/controls",
          "model_module_version": "1.5.0",
          "model_name": "FloatProgressModel",
          "state": {
            "_dom_classes": [],
            "_model_module": "@jupyter-widgets/controls",
            "_model_module_version": "1.5.0",
            "_model_name": "FloatProgressModel",
            "_view_count": null,
            "_view_module": "@jupyter-widgets/controls",
            "_view_module_version": "1.5.0",
            "_view_name": "ProgressView",
            "bar_style": "success",
            "description": "",
            "description_tooltip": null,
            "layout": "IPY_MODEL_7baf7ccb24ff450bbf11914a4501827d",
            "max": 1344997306,
            "min": 0,
            "orientation": "horizontal",
            "style": "IPY_MODEL_d188dab172224e9983f724d213ad1b84",
            "value": 1344997306
          }
        },
        "da82b6fb74c2459fa84fb7dccc8f6019": {
          "model_module": "@jupyter-widgets/controls",
          "model_module_version": "1.5.0",
          "model_name": "DescriptionStyleModel",
          "state": {
            "_model_module": "@jupyter-widgets/controls",
            "_model_module_version": "1.5.0",
            "_model_name": "DescriptionStyleModel",
            "_view_count": null,
            "_view_module": "@jupyter-widgets/base",
            "_view_module_version": "1.2.0",
            "_view_name": "StyleView",
            "description_width": ""
          }
        },
        "db432d631db74005b25b6195bd4251b6": {
          "model_module": "@jupyter-widgets/base",
          "model_module_version": "1.2.0",
          "model_name": "LayoutModel",
          "state": {
            "_model_module": "@jupyter-widgets/base",
            "_model_module_version": "1.2.0",
            "_model_name": "LayoutModel",
            "_view_count": null,
            "_view_module": "@jupyter-widgets/base",
            "_view_module_version": "1.2.0",
            "_view_name": "LayoutView",
            "align_content": null,
            "align_items": null,
            "align_self": null,
            "border": null,
            "bottom": null,
            "display": null,
            "flex": null,
            "flex_flow": null,
            "grid_area": null,
            "grid_auto_columns": null,
            "grid_auto_flow": null,
            "grid_auto_rows": null,
            "grid_column": null,
            "grid_gap": null,
            "grid_row": null,
            "grid_template_areas": null,
            "grid_template_columns": null,
            "grid_template_rows": null,
            "height": null,
            "justify_content": null,
            "justify_items": null,
            "left": null,
            "margin": null,
            "max_height": null,
            "max_width": null,
            "min_height": null,
            "min_width": null,
            "object_fit": null,
            "object_position": null,
            "order": null,
            "overflow": null,
            "overflow_x": null,
            "overflow_y": null,
            "padding": null,
            "right": null,
            "top": null,
            "visibility": null,
            "width": null
          }
        },
        "ef44fdbeaa6c4f9d99cff139fa24692e": {
          "model_module": "@jupyter-widgets/controls",
          "model_module_version": "1.5.0",
          "model_name": "HBoxModel",
          "state": {
            "_dom_classes": [],
            "_model_module": "@jupyter-widgets/controls",
            "_model_module_version": "1.5.0",
            "_model_name": "HBoxModel",
            "_view_count": null,
            "_view_module": "@jupyter-widgets/controls",
            "_view_module_version": "1.5.0",
            "_view_name": "HBoxView",
            "box_style": "",
            "children": [
              "IPY_MODEL_189421b7d68249e6bd14d2b9676b3e75",
              "IPY_MODEL_4121c1b0ec044ee0a2ecbb061d718920",
              "IPY_MODEL_80848ab494224bf3b76b5fb4c46b5355"
            ],
            "layout": "IPY_MODEL_6dca0bc17d0748398efa156e54abc39e"
          }
        },
        "f1251d1217b842b4a4679585826437c9": {
          "model_module": "@jupyter-widgets/controls",
          "model_module_version": "1.5.0",
          "model_name": "HBoxModel",
          "state": {
            "_dom_classes": [],
            "_model_module": "@jupyter-widgets/controls",
            "_model_module_version": "1.5.0",
            "_model_name": "HBoxModel",
            "_view_count": null,
            "_view_module": "@jupyter-widgets/controls",
            "_view_module_version": "1.5.0",
            "_view_name": "HBoxView",
            "box_style": "",
            "children": [
              "IPY_MODEL_0713862e8bc847e1bb7ba9f1ac6453aa",
              "IPY_MODEL_b237f959d92f486ea9e0f99dae0d35ff",
              "IPY_MODEL_86e3455424ea46ae934d89024d462774"
            ],
            "layout": "IPY_MODEL_98000ae15c6a41998c66f9ef456a510b"
          }
        },
        "f8ac3c24cd9c439b975eb7ef92de3a29": {
          "model_module": "@jupyter-widgets/base",
          "model_module_version": "1.2.0",
          "model_name": "LayoutModel",
          "state": {
            "_model_module": "@jupyter-widgets/base",
            "_model_module_version": "1.2.0",
            "_model_name": "LayoutModel",
            "_view_count": null,
            "_view_module": "@jupyter-widgets/base",
            "_view_module_version": "1.2.0",
            "_view_name": "LayoutView",
            "align_content": null,
            "align_items": null,
            "align_self": null,
            "border": null,
            "bottom": null,
            "display": null,
            "flex": null,
            "flex_flow": null,
            "grid_area": null,
            "grid_auto_columns": null,
            "grid_auto_flow": null,
            "grid_auto_rows": null,
            "grid_column": null,
            "grid_gap": null,
            "grid_row": null,
            "grid_template_areas": null,
            "grid_template_columns": null,
            "grid_template_rows": null,
            "height": null,
            "justify_content": null,
            "justify_items": null,
            "left": null,
            "margin": null,
            "max_height": null,
            "max_width": null,
            "min_height": null,
            "min_width": null,
            "object_fit": null,
            "object_position": null,
            "order": null,
            "overflow": null,
            "overflow_x": null,
            "overflow_y": null,
            "padding": null,
            "right": null,
            "top": null,
            "visibility": null,
            "width": null
          }
        },
        "f9d77a22bffb49908b3f053a166eb77e": {
          "model_module": "@jupyter-widgets/controls",
          "model_module_version": "1.5.0",
          "model_name": "ProgressStyleModel",
          "state": {
            "_model_module": "@jupyter-widgets/controls",
            "_model_module_version": "1.5.0",
            "_model_name": "ProgressStyleModel",
            "_view_count": null,
            "_view_module": "@jupyter-widgets/base",
            "_view_module_version": "1.2.0",
            "_view_name": "StyleView",
            "bar_color": null,
            "description_width": ""
          }
        },
        "fce2efc152ce4764a9b28ee5799e4ecf": {
          "model_module": "@jupyter-widgets/controls",
          "model_module_version": "1.5.0",
          "model_name": "DescriptionStyleModel",
          "state": {
            "_model_module": "@jupyter-widgets/controls",
            "_model_module_version": "1.5.0",
            "_model_name": "DescriptionStyleModel",
            "_view_count": null,
            "_view_module": "@jupyter-widgets/base",
            "_view_module_version": "1.2.0",
            "_view_name": "StyleView",
            "description_width": ""
          }
        }
      }
    }
  },
  "nbformat": 4,
  "nbformat_minor": 0
}
